{
  "nbformat": 4,
  "nbformat_minor": 0,
  "metadata": {
    "colab": {
      "provenance": [],
      "authorship_tag": "ABX9TyPDRd8aBsdMKQpIs4EV/RBA",
      "include_colab_link": true
    },
    "kernelspec": {
      "name": "python3",
      "display_name": "Python 3"
    },
    "language_info": {
      "name": "python"
    }
  },
  "cells": [
    {
      "cell_type": "markdown",
      "metadata": {
        "id": "view-in-github",
        "colab_type": "text"
      },
      "source": [
        "<a href=\"https://colab.research.google.com/github/mansiiiiiiiiiiiii/Begin/blob/main/BeginPython.ipynb\" target=\"_parent\"><img src=\"https://colab.research.google.com/assets/colab-badge.svg\" alt=\"Open In Colab\"/></a>"
      ]
    },
    {
      "cell_type": "code",
      "execution_count": null,
      "metadata": {
        "colab": {
          "base_uri": "https://localhost:8080/"
        },
        "id": "Mtmrz15Gk2Xy",
        "outputId": "d0bd846a-17bb-4400-eda7-84f28046aba9"
      },
      "outputs": [
        {
          "output_type": "stream",
          "name": "stdout",
          "text": [
            "HEllo World\n",
            "College\n",
            "13\n",
            "m\n",
            "Sleep is \n",
            "life goes on\n",
            "LIFE GOES BEHIND\n",
            "Blue Daisy\n",
            "Blue,DAISY.Roster!\n",
            "['__add__', '__class__', '__contains__', '__delattr__', '__dir__', '__doc__', '__eq__', '__format__', '__ge__', '__getattribute__', '__getitem__', '__getnewargs__', '__gt__', '__hash__', '__init__', '__init_subclass__', '__iter__', '__le__', '__len__', '__lt__', '__mod__', '__mul__', '__ne__', '__new__', '__reduce__', '__reduce_ex__', '__repr__', '__rmod__', '__rmul__', '__setattr__', '__sizeof__', '__str__', '__subclasshook__', 'capitalize', 'casefold', 'center', 'count', 'encode', 'endswith', 'expandtabs', 'find', 'format', 'format_map', 'index', 'isalnum', 'isalpha', 'isascii', 'isdecimal', 'isdigit', 'isidentifier', 'islower', 'isnumeric', 'isprintable', 'isspace', 'istitle', 'isupper', 'join', 'ljust', 'lower', 'lstrip', 'maketrans', 'partition', 'removeprefix', 'removesuffix', 'replace', 'rfind', 'rindex', 'rjust', 'rpartition', 'rsplit', 'rstrip', 'split', 'splitlines', 'startswith', 'strip', 'swapcase', 'title', 'translate', 'upper', 'zfill']\n",
            "Help on method_descriptor:\n",
            "\n",
            "upper(self, /)\n",
            "    Return a copy of the string converted to uppercase.\n",
            "\n",
            "None\n"
          ]
        }
      ],
      "source": [
        "from os import name\n",
        "print(\"HEllo World\")\n",
        "print(\"\"\"College\"\"\")\n",
        "print(len(\"I love coffee\"))\n",
        "message=\"Sleep is important\"\n",
        "print(message[10])\n",
        "print(message[0:9])\n",
        "\n",
        "#method and function\n",
        "remember=\"LIFE GOES ON\"\n",
        "print(remember.lower())\n",
        "also_remember=remember.replace(\"ON\",\"BEHIND\")\n",
        "print(also_remember)\n",
        "\n",
        "\n",
        "color=\"Blue\"\n",
        "flower=\"Daisy\"\n",
        "Word = color+ ' ' + flower\n",
        "print(Word)\n",
        "\n",
        "ABC=f\"{color},{flower.upper()}.Roster!\"\n",
        "print(ABC)\n",
        "\n",
        "print(dir(name))\n",
        "\n",
        "print(help(str.upper))\n",
        "\n",
        "\n",
        "\n"
      ]
    },
    {
      "cell_type": "code",
      "source": [],
      "metadata": {
        "id": "FP89ps4EU1mu"
      },
      "execution_count": null,
      "outputs": []
    },
    {
      "cell_type": "code",
      "source": [
        "num=(20.866)\n",
        "print(type(num))\n",
        "print(56+3)\n",
        "print(7//8)\n",
        "print(8**77)\n",
        "print(9%29)\n",
        "print(2%2)\n",
        "print(3%2)\n",
        "print(4%2)\n",
        "print(5%2)\n",
        "print(3*2+1)\n",
        "no=1\n",
        "no *=10\n",
        "print(no)\n",
        "\n",
        "print(abs(-45))\n",
        "print(abs(0.55))\n",
        "print(round(9.77,1))\n",
        "\n",
        "\n",
        "\n",
        "\n",
        "\n"
      ],
      "metadata": {
        "colab": {
          "base_uri": "https://localhost:8080/"
        },
        "id": "ZImq5dYc3tMu",
        "outputId": "c8cfff83-d59b-4c38-909b-9d748c715b96"
      },
      "execution_count": null,
      "outputs": [
        {
          "output_type": "stream",
          "name": "stdout",
          "text": [
            "<class 'float'>\n",
            "59\n",
            "0\n",
            "3450873173395281893717377931138512726225554486085193277581262111899648\n",
            "9\n",
            "0\n",
            "1\n",
            "0\n",
            "1\n",
            "7\n",
            "10\n",
            "45\n",
            "0.55\n",
            "9.8\n"
          ]
        }
      ]
    },
    {
      "cell_type": "code",
      "source": [
        "courses=[\"micro\",\"macro\",\"stats\",\"metrics\"]\n",
        "print(courses.index(\"stats\"))\n",
        "courses.append(\"comp.\")\n",
        "courses.remove(\"metrics\")\n",
        "courses.pop()\n",
        "courses.reverse()\n",
        "courses_2=[\"Psychology\",\"Art\"]\n",
        "courses.insert(0,courses_2 )\n",
        "courses.extend(courses_2)\n",
        "print(\"art\" in courses)\n",
        "print(courses)\n",
        "print(courses[-1])\n",
        "print(courses[-2])\n",
        "print(courses[:2])\n",
        "print(courses[2:4])\n",
        "for item in courses:\n",
        "  print(item)\n",
        "\n",
        "nums=[3,6,4,8,9,6,2]\n",
        "print(sum(nums))\n",
        "nums.sort(reverse=True)\n",
        "print(nums)\n",
        "\n",
        "\n",
        "\n",
        "\n"
      ],
      "metadata": {
        "id": "zMB0BNwEvCGt",
        "colab": {
          "base_uri": "https://localhost:8080/"
        },
        "outputId": "40903bb6-47a3-42d5-f53f-d9ea8e97b2a6"
      },
      "execution_count": null,
      "outputs": [
        {
          "output_type": "stream",
          "name": "stdout",
          "text": [
            "2\n",
            "False\n",
            "[['Psychology', 'Art'], 'stats', 'macro', 'micro', 'Psychology', 'Art']\n",
            "Art\n",
            "Psychology\n",
            "[['Psychology', 'Art'], 'stats']\n",
            "['macro', 'micro']\n",
            "['Psychology', 'Art']\n",
            "stats\n",
            "macro\n",
            "micro\n",
            "Psychology\n",
            "Art\n",
            "38\n",
            "[9, 8, 6, 6, 4, 3, 2]\n"
          ]
        }
      ]
    },
    {
      "cell_type": "code",
      "source": [],
      "metadata": {
        "id": "NcLM4wG1tsAU"
      },
      "execution_count": null,
      "outputs": []
    },
    {
      "cell_type": "code",
      "source": [
        "courses=[\"History\",\"Polity\",\"Maths\",\"Sociology\"]\n",
        "for index, course in enumerate(courses, start=1):\n",
        "  print(index,course)\n",
        "\n",
        "course_str=\", \".join(courses)\n",
        "new_list=course_str.split(' _ ')\n",
        "print(new_list)\n",
        "print(course_str)"
      ],
      "metadata": {
        "colab": {
          "base_uri": "https://localhost:8080/"
        },
        "id": "i3rHaH6p6dz1",
        "outputId": "8fce1465-576f-4916-a937-a2b5b469bfd2"
      },
      "execution_count": null,
      "outputs": [
        {
          "output_type": "stream",
          "name": "stdout",
          "text": [
            "1 History\n",
            "2 Polity\n",
            "3 Maths\n",
            "4 Sociology\n",
            "['History, Polity, Maths, Sociology']\n",
            "History, Polity, Maths, Sociology\n"
          ]
        }
      ]
    },
    {
      "cell_type": "code",
      "source": [
        "#Tuples and sets\n",
        "tuple_1=[\"mango\",\"apple\",\"orange\",\"melon\"]\n",
        "tuple_2=tuple_1\n",
        "print(tuple_2)\n",
        "\n",
        "fruits={\"mango\",\"apple\",\"orange\",\"melon\",\"papaya\"}\n",
        "fruits_2={\"mango\",\"orange\",\"papaya\",\"watermelon\",\"lychee\"}\n",
        "print(fruits)\n",
        "print(fruits.intersection(fruits_2))\n",
        "print(fruits.union(fruits_2))\n",
        "\n",
        "Empty_list=[]\n",
        "empty_list=list()\n",
        "\n",
        "empty_tuple=()\n",
        "empty_tuple=tuple()\n",
        "\n",
        "empty_set={}\n",
        "empty_set=set()"
      ],
      "metadata": {
        "colab": {
          "base_uri": "https://localhost:8080/"
        },
        "id": "P_8vSMpixzrn",
        "outputId": "4af5d630-834b-48c0-e0f4-9d31b486d1c5"
      },
      "execution_count": null,
      "outputs": [
        {
          "output_type": "stream",
          "name": "stdout",
          "text": [
            "['mango', 'apple', 'orange', 'melon']\n",
            "{'apple', 'mango', 'papaya', 'melon', 'orange'}\n",
            "{'papaya', 'orange', 'mango'}\n",
            "{'watermelon', 'papaya', 'melon', 'apple', 'mango', 'lychee', 'orange'}\n"
          ]
        }
      ]
    },
    {
      "cell_type": "code",
      "source": [
        "#Dictionary\n",
        "student={\"name\":\"Ali\",\"age\":21,\"courses\":[\"Maths\",\"Comp\"]}\n",
        "student[\"phone\"]=\"000000-000000\"\n",
        "student.update({\"name\":\"Zane\",\"age\":\"23\"})\n",
        "print(student.get(\"phone\",\"Not_Found\"))\n",
        "print(student)\n",
        "del student[\"age\"]\n",
        "print(student)\n",
        "\n",
        "name=student.pop(\"name\")\n",
        "print(name)\n",
        "print(len(student))\n",
        "print(student.values())\n",
        "print(student.items())\n",
        "\n",
        "for key in student:\n",
        "  print(key)\n"
      ],
      "metadata": {
        "colab": {
          "base_uri": "https://localhost:8080/"
        },
        "id": "i4sUAzU9Rcsp",
        "outputId": "449148c2-79f8-4171-9d28-d236faa79122"
      },
      "execution_count": null,
      "outputs": [
        {
          "output_type": "stream",
          "name": "stdout",
          "text": [
            "000000-000000\n",
            "{'name': 'Zane', 'age': '23', 'courses': ['Maths', 'Comp'], 'phone': '000000-000000'}\n",
            "{'name': 'Zane', 'courses': ['Maths', 'Comp'], 'phone': '000000-000000'}\n",
            "Zane\n",
            "2\n",
            "dict_values([['Maths', 'Comp'], '000000-000000'])\n",
            "dict_items([('courses', ['Maths', 'Comp']), ('phone', '000000-000000')])\n",
            "courses\n",
            "phone\n"
          ]
        }
      ]
    },
    {
      "cell_type": "code",
      "source": [
        "language=\"Java\"\n",
        "\n",
        "if language==\"Python\":\n",
        "  print(\"Language is Python\")\n",
        "\n",
        "elif language==\"Java\":\n",
        "   print(\"Language is Java\")\n",
        "\n",
        "elif language==\"C+\":\n",
        "   print(\"Language is C+\")\n",
        "\n",
        "else:\n",
        "  print(\"no match\")\n"
      ],
      "metadata": {
        "colab": {
          "base_uri": "https://localhost:8080/"
        },
        "id": "bxq7_84DUjX_",
        "outputId": "348a6436-ba32-47cb-b403-4c5ae7e4fca7"
      },
      "execution_count": null,
      "outputs": [
        {
          "output_type": "stream",
          "name": "stdout",
          "text": [
            "Language is Java\n"
          ]
        }
      ]
    },
    {
      "cell_type": "code",
      "source": [
        "user=\"Admin\"\n",
        "logged_in=False\n",
        "\n",
        "if not logged_in:\n",
        "  print(\"Please Log In\")\n",
        "\n",
        "else:\n",
        "  print(\"Welcome\")\n"
      ],
      "metadata": {
        "colab": {
          "base_uri": "https://localhost:8080/"
        },
        "id": "7jRvZh4tVyKD",
        "outputId": "b983cff0-3f7e-44c2-c52a-b678aab22bc1"
      },
      "execution_count": null,
      "outputs": [
        {
          "output_type": "stream",
          "name": "stdout",
          "text": [
            "Please Log In\n"
          ]
        }
      ]
    },
    {
      "cell_type": "code",
      "source": [
        "a=[1,2,3]\n",
        "b=[1,2,4]\n",
        "a=b\n",
        "\n",
        "print(id(a))\n",
        "print(id(b))\n",
        "print(a is b)"
      ],
      "metadata": {
        "colab": {
          "base_uri": "https://localhost:8080/"
        },
        "id": "pH25zbjPWzpV",
        "outputId": "76546758-ee52-4154-c941-d2952eecf21c"
      },
      "execution_count": null,
      "outputs": [
        {
          "output_type": "stream",
          "name": "stdout",
          "text": [
            "140370136839936\n",
            "140370136839936\n",
            "True\n"
          ]
        }
      ]
    },
    {
      "cell_type": "code",
      "source": [
        "condition = None\n",
        "if condition:\n",
        "  print(\"Evaluated to True\")\n",
        "\n",
        "else:\n",
        "  print(\"Evaluated to False\")"
      ],
      "metadata": {
        "colab": {
          "base_uri": "https://localhost:8080/"
        },
        "id": "7YYE41PdXf2y",
        "outputId": "196ef900-544a-4b51-d922-b57ab21e5e88"
      },
      "execution_count": null,
      "outputs": [
        {
          "output_type": "stream",
          "name": "stdout",
          "text": [
            "Evaluated to False\n"
          ]
        }
      ]
    },
    {
      "cell_type": "code",
      "source": [
        "nums=[1,3,5,6]\n",
        "for num in nums:\n",
        "  if num==4:\n",
        "    print('Found it')\n",
        "    break\n",
        "    continue\n",
        "  print(num)\n",
        "\n"
      ],
      "metadata": {
        "colab": {
          "base_uri": "https://localhost:8080/"
        },
        "id": "_3ucyXXSYlfQ",
        "outputId": "52f98655-b084-436f-c6e1-995dc6cad118"
      },
      "execution_count": null,
      "outputs": [
        {
          "output_type": "stream",
          "name": "stdout",
          "text": [
            "1\n",
            "3\n",
            "5\n",
            "6\n"
          ]
        }
      ]
    },
    {
      "cell_type": "code",
      "source": [
        "nums=[1,2,3,4,5]\n",
        "for num in nums:\n",
        "  for letter in \"abc\":\n",
        "    print(num,letter)\n",
        "\n",
        "for i in range(1,11):\n",
        "  print(i)"
      ],
      "metadata": {
        "colab": {
          "base_uri": "https://localhost:8080/"
        },
        "id": "zdIiF06EZap1",
        "outputId": "073a63d7-0c4c-440b-93bf-e53b0890a0b3"
      },
      "execution_count": null,
      "outputs": [
        {
          "output_type": "stream",
          "name": "stdout",
          "text": [
            "1 a\n",
            "1 b\n",
            "1 c\n",
            "2 a\n",
            "2 b\n",
            "2 c\n",
            "3 a\n",
            "3 b\n",
            "3 c\n",
            "4 a\n",
            "4 b\n",
            "4 c\n",
            "5 a\n",
            "5 b\n",
            "5 c\n",
            "1\n",
            "2\n",
            "3\n",
            "4\n",
            "5\n",
            "6\n",
            "7\n",
            "8\n",
            "9\n",
            "10\n"
          ]
        }
      ]
    },
    {
      "cell_type": "code",
      "source": [
        "x=1\n",
        "while x<10:\n",
        "  if x==5:\n",
        "    break\n",
        "  print(x)\n",
        "  x += 1"
      ],
      "metadata": {
        "colab": {
          "base_uri": "https://localhost:8080/"
        },
        "id": "F0db7cRIaMm2",
        "outputId": "c0aaa312-794c-4d0b-d53c-27373d227f2a"
      },
      "execution_count": null,
      "outputs": [
        {
          "output_type": "stream",
          "name": "stdout",
          "text": [
            "1\n",
            "2\n",
            "3\n",
            "4\n"
          ]
        }
      ]
    },
    {
      "cell_type": "code",
      "source": [
        "def hello_func():\n",
        "  return \"Hello Function\"\n",
        "\n",
        "hello_func()\n",
        "hello_func()\n",
        "hello_func()\n",
        "hello_func()\n",
        "\n",
        "print(hello_func())\n",
        "print(hello_func())\n",
        "print(hello_func())\n",
        "print(hello_func())\n",
        "\n",
        "print(len(\"Test\"))"
      ],
      "metadata": {
        "colab": {
          "base_uri": "https://localhost:8080/"
        },
        "id": "97qlrSr7a6Nf",
        "outputId": "f758280d-b86b-4c42-ef83-3a0af9a71b47"
      },
      "execution_count": null,
      "outputs": [
        {
          "output_type": "stream",
          "name": "stdout",
          "text": [
            "Hello Function\n",
            "Hello Function\n",
            "Hello Function\n",
            "Hello Function\n",
            "4\n"
          ]
        }
      ]
    },
    {
      "cell_type": "code",
      "source": [
        "def hello_func(greeting, name=\"You\"):\n",
        "  return \"{} {}\".format(greeting,name)\n",
        "\n",
        "print(hello_func(\"hii\",\"Adam\"))\n",
        "\n",
        "def student_info(*args, **kwargs):\n",
        "  print(args)\n",
        "  print(kwargs)\n",
        "\n",
        "student_info(\"Math\",\"Psycho\", name=\"Joi\", age=\"21\")\n",
        "\n"
      ],
      "metadata": {
        "colab": {
          "base_uri": "https://localhost:8080/"
        },
        "id": "0FASCb-Uc1jf",
        "outputId": "20a00cfe-0dd1-41cd-ff92-7d1caf79ad72"
      },
      "execution_count": null,
      "outputs": [
        {
          "output_type": "stream",
          "name": "stdout",
          "text": [
            "hii Adam\n",
            "('Math', 'Psycho')\n",
            "{'name': 'Joi', 'age': '21'}\n"
          ]
        }
      ]
    },
    {
      "cell_type": "code",
      "source": [
        "month_days=[0,31,28,31,30,31,30,31,31,30,31,30,31]\n",
        "def is_leap(year):\n",
        "  \"\"\"Return True for leap years, False for non-leap years.\"\"\"\n",
        "  return year % 4==0 and (year % 100 != 0 or year % 400 == 0)\n",
        "\n",
        "def days_in_month(year,month):\n",
        "  \"\"\"Return no. of days in that month in that year\"\"\"\n",
        "\n",
        "  if not 1 <= month <=12:\n",
        "    return \"Invalid Month\"\n",
        "\n",
        "  if month == 2 and is_leap(year):\n",
        "    return 29\n",
        "\n",
        "  return month_days[month]\n",
        "\n",
        "print(is_leap(2017))\n",
        "print(is_leap(2000))\n"
      ],
      "metadata": {
        "colab": {
          "base_uri": "https://localhost:8080/"
        },
        "id": "rJaenNdD-JIf",
        "outputId": "15137c59-958e-43dd-b10b-1a8c99b1b458"
      },
      "execution_count": null,
      "outputs": [
        {
          "output_type": "stream",
          "name": "stdout",
          "text": [
            "False\n",
            "True\n"
          ]
        }
      ]
    },
    {
      "cell_type": "code",
      "source": [
        "# A no. is even or odd\n",
        "\n",
        "def num(number):\n",
        "  if number % 2 == 0:\n",
        "    return \"Even\"\n",
        "  else:\n",
        "    return \"Odd\"\n",
        "\n",
        "print(num(98858))\n"
      ],
      "metadata": {
        "colab": {
          "base_uri": "https://localhost:8080/"
        },
        "id": "Q4NDMisfbz07",
        "outputId": "1910aa9d-b227-41a4-f7e6-cd0bdd8deca1"
      },
      "execution_count": null,
      "outputs": [
        {
          "output_type": "stream",
          "name": "stdout",
          "text": [
            "Even\n"
          ]
        }
      ]
    },
    {
      "cell_type": "code",
      "source": [
        "#Leap Year\n",
        "month_days=[0,31,29,31,30,31,30,31,31,30,31,30,31]\n",
        "\n",
        "def leap_year(year):\n",
        "  if year % 4 == 0 and (year % 100 != 0  or year % 400 == 0):\n",
        "       return \"Leap Year\"\n",
        "  else:\n",
        "    return \"Not a Leap Year\"\n",
        "\n",
        "\n",
        "print(leap_year(600))"
      ],
      "metadata": {
        "colab": {
          "base_uri": "https://localhost:8080/"
        },
        "id": "rRsbFl1Gd0Vq",
        "outputId": "46382a4b-e9cc-4610-fb8e-a7afca306fc5"
      },
      "execution_count": null,
      "outputs": [
        {
          "output_type": "stream",
          "name": "stdout",
          "text": [
            "Not a Leap Year\n"
          ]
        }
      ]
    },
    {
      "cell_type": "code",
      "source": [
        "#Calculate Average\n",
        "\n",
        "def calculate_average(numbers):\n",
        "    return float(sum(numbers) / len(numbers))\n",
        "\n",
        "print(calculate_average([6,5,8,9]))\n",
        "\n",
        "\n"
      ],
      "metadata": {
        "colab": {
          "base_uri": "https://localhost:8080/"
        },
        "id": "mhCHfDVyk6lq",
        "outputId": "30f58029-349e-4fef-f244-e41f787da210"
      },
      "execution_count": null,
      "outputs": [
        {
          "output_type": "stream",
          "name": "stdout",
          "text": [
            "7.0\n"
          ]
        }
      ]
    },
    {
      "cell_type": "code",
      "source": [],
      "metadata": {
        "id": "jxJGTlfSsg4U"
      },
      "execution_count": null,
      "outputs": []
    },
    {
      "cell_type": "code",
      "source": [
        "# Reverse String\n",
        "\n",
        "def reverse_string(string):\n",
        "  str=\"\"\n",
        "  for i in string:\n",
        "    str = i + str\n",
        "  return(str)\n",
        "\n",
        "print(reverse_string(\"Hello World!\"))\n"
      ],
      "metadata": {
        "colab": {
          "base_uri": "https://localhost:8080/"
        },
        "id": "O_4BJj-8uRLG",
        "outputId": "21dcb831-c0e0-4061-cf15-c72adc3d8043"
      },
      "execution_count": null,
      "outputs": [
        {
          "output_type": "stream",
          "name": "stdout",
          "text": [
            "!dlroW olleH\n"
          ]
        }
      ]
    },
    {
      "cell_type": "markdown",
      "source": [],
      "metadata": {
        "id": "BdEq6DDDtLsj"
      }
    },
    {
      "cell_type": "code",
      "source": [
        "word=\"Keys\"\n",
        "i=list(word)\n",
        "print(i)\n"
      ],
      "metadata": {
        "colab": {
          "base_uri": "https://localhost:8080/"
        },
        "id": "rjWOltUatLMP",
        "outputId": "2f213141-6898-4151-c155-f777d18b3786"
      },
      "execution_count": null,
      "outputs": [
        {
          "output_type": "stream",
          "name": "stdout",
          "text": [
            "['K', 'e', 'y', 's']\n"
          ]
        }
      ]
    },
    {
      "cell_type": "code",
      "source": [
        "def count_vowels(string):\n",
        "  vowels=\"aeiouAEIOU\"\n",
        "  count=0\n",
        "  for char in string:\n",
        "    if char in vowels:\n",
        "      count += 1\n",
        "  return count\n",
        "\n",
        "print(count_vowels(\"I like my chair\"))\n",
        "\n",
        "\n"
      ],
      "metadata": {
        "colab": {
          "base_uri": "https://localhost:8080/"
        },
        "id": "MQXoPYPTWV9e",
        "outputId": "3ca6ba16-0016-410c-efd0-2c9cd6a9d9bc"
      },
      "execution_count": null,
      "outputs": [
        {
          "output_type": "stream",
          "name": "stdout",
          "text": [
            "5\n"
          ]
        }
      ]
    },
    {
      "cell_type": "code",
      "source": [
        "def is_palindrome(word):\n",
        "  reverse_string=\"\"\n",
        "  for i in word:\n",
        "    reverse_string=i+reverse_string\n",
        "\n",
        "  if word.lower() == reverse_string.lower() :\n",
        "    return True\n",
        "\n",
        "  else:\n",
        "    return False\n",
        "\n",
        "print(is_palindrome(\"MiliM\"))\n",
        "\n"
      ],
      "metadata": {
        "colab": {
          "base_uri": "https://localhost:8080/"
        },
        "id": "V1FhgE3uBA0Q",
        "outputId": "c3361ca7-bbc6-4d31-f1be-6071b3a51bb4"
      },
      "execution_count": null,
      "outputs": [
        {
          "output_type": "stream",
          "name": "stdout",
          "text": [
            "True\n"
          ]
        }
      ]
    },
    {
      "cell_type": "code",
      "source": [
        "num=[8]\n",
        "for i in num:\n",
        "  i=float\n",
        "  if i==0:\n",
        "    break\n",
        "  continue\n",
        "  i*=(i-1)\n",
        "\n",
        "print(i)"
      ],
      "metadata": {
        "colab": {
          "base_uri": "https://localhost:8080/"
        },
        "id": "ooLBTqtYG0i4",
        "outputId": "7b8bc83a-f767-4be6-cb51-643705948780"
      },
      "execution_count": null,
      "outputs": [
        {
          "output_type": "stream",
          "name": "stdout",
          "text": [
            "<class 'float'>\n"
          ]
        }
      ]
    },
    {
      "cell_type": "code",
      "source": [
        "def factorial(number):\n",
        "  result=1\n",
        "  for i in range(1, number+1):\n",
        "    result *= i\n",
        "  return result\n",
        "\n",
        "print(factorial(5))\n",
        "\n",
        "\n",
        "\n"
      ],
      "metadata": {
        "colab": {
          "base_uri": "https://localhost:8080/"
        },
        "id": "-IshD0LZ8LiC",
        "outputId": "34e6c6af-2444-47f6-cf37-1a453d4fcca1"
      },
      "execution_count": null,
      "outputs": [
        {
          "output_type": "stream",
          "name": "stdout",
          "text": [
            "120\n"
          ]
        }
      ]
    },
    {
      "cell_type": "code",
      "source": [
        "def remove_duplicates(list):\n",
        "  list=set(list)\n",
        "  return(list)\n",
        "\n",
        "print(remove_duplicates([11,5,66,88,4,6,4,0]))"
      ],
      "metadata": {
        "colab": {
          "base_uri": "https://localhost:8080/"
        },
        "id": "TXWjbVXoOW3E",
        "outputId": "95ba3e4e-743e-4026-e785-8a0d335b64e9"
      },
      "execution_count": null,
      "outputs": [
        {
          "output_type": "stream",
          "name": "stdout",
          "text": [
            "{0, 66, 4, 5, 6, 11, 88}\n"
          ]
        }
      ]
    },
    {
      "cell_type": "code",
      "source": [
        "def remove_duplicates(lst):\n",
        "  seen=[]\n",
        "  for item in lst:\n",
        "    if item not in seen:\n",
        "      seen.append(item)\n",
        "  return seen\n",
        "\n",
        "print(remove_duplicates([2,77,4,2,8,5,5,9]))"
      ],
      "metadata": {
        "colab": {
          "base_uri": "https://localhost:8080/"
        },
        "id": "fbNNB0N0RXWY",
        "outputId": "cf1b4be1-24ae-448c-e65e-fbffcca1b2c4"
      },
      "execution_count": null,
      "outputs": [
        {
          "output_type": "stream",
          "name": "stdout",
          "text": [
            "[2, 77, 4, 8, 5, 9]\n"
          ]
        }
      ]
    },
    {
      "cell_type": "code",
      "source": [
        "c = float(input(\"Enter Temprature in Celcius: \"))\n",
        "f = (c*9/5)+32\n",
        "print(\"Temprature in Fahrenheit: \",(f))\n",
        "k = c + 273.15\n",
        "print(\"Temprature in Kelvin: \", (k))"
      ],
      "metadata": {
        "id": "aSQGon2QShuO",
        "colab": {
          "base_uri": "https://localhost:8080/"
        },
        "outputId": "8a2e604b-d813-4ad7-a7ba-a6b4e6ebf8d8"
      },
      "execution_count": null,
      "outputs": [
        {
          "output_type": "stream",
          "name": "stdout",
          "text": [
            "Enter Temprature in celcius: 76\n",
            "Temprature in Fahrenheit:  168.8\n",
            "Temprature in Kelvin:  349.15\n"
          ]
        }
      ]
    },
    {
      "cell_type": "code",
      "source": [
        "a = float(input(\"Guess the number (between 1 and 10): \"))\n",
        "if 1<a<7:\n",
        "  print(\"Too low! Try again.\")\n",
        "\n",
        "elif a==7:\n",
        "  print(\"Congratulations! You guessed the correct number.\")\n",
        "\n",
        "elif 10>=a>7:\n",
        "  print(\"Too high! Try again\")\n",
        "\n",
        "else:\n",
        "  print(\"Number outside the range\")"
      ],
      "metadata": {
        "colab": {
          "base_uri": "https://localhost:8080/"
        },
        "id": "hxxclMgK1B_a",
        "outputId": "7e187366-7465-4564-9ce0-fb7eff6bfbfa"
      },
      "execution_count": null,
      "outputs": [
        {
          "output_type": "stream",
          "name": "stdout",
          "text": [
            "Guess the number (between 1 and 10): 10\n",
            "Too high! Try again\n"
          ]
        }
      ]
    },
    {
      "cell_type": "code",
      "source": [
        "def palindrome(word):\n",
        "  string=\"\"\n",
        "  for i in word:\n",
        "    string=(i+string)\n",
        "\n",
        "  if word.lower()==string.lower():\n",
        "    return \"Is a palindrome\"\n",
        "\n",
        "  else:\n",
        "   return \"Is not a palindrome\"\n",
        "\n",
        "print(palindrome(\"radar\"))"
      ],
      "metadata": {
        "colab": {
          "base_uri": "https://localhost:8080/"
        },
        "id": "VlePELIk3sEI",
        "outputId": "163a7cec-cfea-4f20-937f-e4bc8cff55cd"
      },
      "execution_count": null,
      "outputs": [
        {
          "output_type": "stream",
          "name": "stdout",
          "text": [
            "Is not a palindrome\n"
          ]
        }
      ]
    },
    {
      "cell_type": "code",
      "source": [
        "# Greeting program\n",
        "name=input(\"Write yourname: \")\n",
        "print(\"hello\")\n"
      ],
      "metadata": {
        "id": "NtDyt00e9qFk"
      },
      "execution_count": null,
      "outputs": []
    },
    {
      "cell_type": "code",
      "source": [
        "lst = input(\"Enter a list of numbers, seperated by spaces: \").split()\n",
        "sum=0\n",
        "\n",
        "for num in lst:\n",
        "  sum += int(num)\n",
        "\n",
        "print(\"the sum of numbers is: \", sum)\n"
      ],
      "metadata": {
        "id": "wjBOo4m7tuKw"
      },
      "execution_count": null,
      "outputs": []
    },
    {
      "cell_type": "code",
      "source": [
        "sentence = input(\"Type a sentence: \")\n",
        "words = sentence.split()\n",
        "word_count={}\n",
        "print(\"Word Count: \")\n",
        "for word in words:\n",
        "  if word not in word_count:\n",
        "    word_count[word]=1\n",
        "\n",
        "    continue\n",
        "\n",
        "  else:\n",
        "    word_count[word] += 1\n",
        "for word, count in word_count.items():\n",
        "  print(word,\" : \",count)\n"
      ],
      "metadata": {
        "id": "omHdWAHPvh6K",
        "colab": {
          "base_uri": "https://localhost:8080/"
        },
        "outputId": "1040f0d9-f4d7-40b7-eb1e-41d8c2822c2d"
      },
      "execution_count": null,
      "outputs": [
        {
          "output_type": "stream",
          "name": "stdout",
          "text": [
            "Type a sentence: hii alsa hii elsa\n",
            "Word Count: \n",
            "hii  :  2\n",
            "alsa  :  1\n",
            "elsa  :  1\n"
          ]
        }
      ]
    },
    {
      "cell_type": "code",
      "source": [],
      "metadata": {
        "id": "pWBkN-NK6OQb"
      },
      "execution_count": null,
      "outputs": []
    }
  ]
}